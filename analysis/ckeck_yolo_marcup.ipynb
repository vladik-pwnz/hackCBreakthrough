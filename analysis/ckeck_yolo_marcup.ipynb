{
 "cells": [
  {
   "cell_type": "code",
   "execution_count": 1,
   "metadata": {
    "ExecuteTime": {
     "end_time": "2023-05-20T21:14:30.470745Z",
     "start_time": "2023-05-20T21:14:30.455176400Z"
    },
    "collapsed": true
   },
   "outputs": [],
   "source": [
    "import os\n",
    "\n",
    "import cv2\n",
    "import numpy as np\n",
    "import pandas as pd\n",
    "\n",
    "from pathbook.pathbook import *"
   ]
  },
  {
   "cell_type": "code",
   "execution_count": 2,
   "metadata": {
    "ExecuteTime": {
     "end_time": "2023-05-20T21:16:53.710106900Z",
     "start_time": "2023-05-20T21:16:53.692638200Z"
    },
    "collapsed": false
   },
   "outputs": [],
   "source": [
    "id2color = {'klikun': (255,0,0), 'maliy': (0, 255, 0), 'shipun': (0,0,255)}\n",
    "\n",
    "path_dataset = path_val_dataset\n",
    "\n",
    "base_file_list = os.listdir(path_dataset)\n",
    "base_file_list = [file.rsplit('.', 1)[0] for file in base_file_list]"
   ]
  },
  {
   "cell_type": "code",
   "execution_count": 3,
   "metadata": {
    "ExecuteTime": {
     "end_time": "2023-05-20T21:19:53.733200900Z",
     "start_time": "2023-05-20T21:17:14.064365400Z"
    },
    "collapsed": false
   },
   "outputs": [
    {
     "name": "stdout",
     "output_type": "stream",
     "text": [
      "/Users/samedi/Documents/Coding/swans/data/val/initial-klikun-2523.jpg\n",
      "/Users/samedi/Documents/Coding/swans/data/val/initial-shipun-2770.jpg\n",
      "/Users/samedi/Documents/Coding/swans/data/val/initial-maliy-1334.jpg\n",
      "/Users/samedi/Documents/Coding/swans/data/val/initial-maliy-2501.jpg\n",
      "/Users/samedi/Documents/Coding/swans/data/val/initial-klikun-1980.jpg\n",
      "/Users/samedi/Documents/Coding/swans/data/val/initial-shipun-2980.jpg\n",
      "/Users/samedi/Documents/Coding/swans/data/val/initial-maliy-2615.jpg\n",
      "/Users/samedi/Documents/Coding/swans/data/val/initial-shipun-1251.jpg\n",
      "/Users/samedi/Documents/Coding/swans/data/val/initial-maliy-1752.jpg\n",
      "/Users/samedi/Documents/Coding/swans/data/val/initial-maliy-900.jpg\n",
      "/Users/samedi/Documents/Coding/swans/data/val/initial-klikun-789.jpg\n",
      "/Users/samedi/Documents/Coding/swans/data/val/initial-klikun-1764.jpg\n",
      "/Users/samedi/Documents/Coding/swans/data/val/initial-klikun-951.jpg\n",
      "/Users/samedi/Documents/Coding/swans/data/val/initial-maliy-1034.jpg\n",
      "/Users/samedi/Documents/Coding/swans/data/val/initial-klikun-25.jpg\n",
      "/Users/samedi/Documents/Coding/swans/data/val/initial-maliy-1485.jpg\n",
      "/Users/samedi/Documents/Coding/swans/data/val/initial-shipun-1186.jpg\n",
      "/Users/samedi/Documents/Coding/swans/data/val/initial-klikun-2186.jpg\n",
      "/Users/samedi/Documents/Coding/swans/data/val/initial-shipun-927.jpg\n",
      "/Users/samedi/Documents/Coding/swans/data/val/initial-klikun-847.jpg\n",
      "/Users/samedi/Documents/Coding/swans/data/val/initial-klikun-2053.jpg\n",
      "/Users/samedi/Documents/Coding/swans/data/val/initial-maliy-2065.jpg\n",
      "/Users/samedi/Documents/Coding/swans/data/val/initial-shipun-1409.jpg\n",
      "/Users/samedi/Documents/Coding/swans/data/val/initial-maliy-2371.jpg\n",
      "/Users/samedi/Documents/Coding/swans/data/val/initial-shipun-602.jpg\n",
      "/Users/samedi/Documents/Coding/swans/data/val/initial-shipun-2100.jpg\n",
      "/Users/samedi/Documents/Coding/swans/data/val/initial-shipun-2666.jpg\n",
      "/Users/samedi/Documents/Coding/swans/data/val/initial-klikun-1572.jpg\n",
      "/Users/samedi/Documents/Coding/swans/data/val/initial-shipun-258.jpg\n",
      "/Users/samedi/Documents/Coding/swans/data/val/initial-klikun-2353.jpg\n",
      "/Users/samedi/Documents/Coding/swans/data/val/initial-maliy-257.jpg\n",
      "/Users/samedi/Documents/Coding/swans/data/val/initial-klikun-1869.jpg\n",
      "/Users/samedi/Documents/Coding/swans/data/val/initial-shipun-831.jpg\n",
      "/Users/samedi/Documents/Coding/swans/data/val/initial-klikun-106.jpg\n",
      "/Users/samedi/Documents/Coding/swans/data/val/initial-shipun-2599.jpg\n",
      "/Users/samedi/Documents/Coding/swans/data/val/initial-shipun-1090.jpg\n",
      "/Users/samedi/Documents/Coding/swans/data/val/initial-klikun-2390.jpg\n",
      "/Users/samedi/Documents/Coding/swans/data/val/initial-klikun-2912.jpg\n",
      "/Users/samedi/Documents/Coding/swans/data/val/initial-maliy-1730.jpg\n",
      "/Users/samedi/Documents/Coding/swans/data/val/initial-maliy-2663.jpg\n",
      "/Users/samedi/Documents/Coding/swans/data/val/initial-klikun-1712.jpg\n",
      "/Users/samedi/Documents/Coding/swans/data/val/initial-klikun-2127.jpg\n",
      "/Users/samedi/Documents/Coding/swans/data/val/initial-klikun-2669.jpg\n",
      "/Users/samedi/Documents/Coding/swans/data/val/initial-shipun-762.jpg\n",
      "/Users/samedi/Documents/Coding/swans/data/val/initial-klikun-1048.jpg\n",
      "/Users/samedi/Documents/Coding/swans/data/val/initial-maliy-1424.jpg\n",
      "/Users/samedi/Documents/Coding/swans/data/val/initial-maliy-779.jpg\n",
      "/Users/samedi/Documents/Coding/swans/data/val/initial-klikun-2696.jpg\n",
      "/Users/samedi/Documents/Coding/swans/data/val/initial-klikun-372.jpg\n",
      "/Users/samedi/Documents/Coding/swans/data/val/initial-klikun-400.jpg\n",
      "/Users/samedi/Documents/Coding/swans/data/val/initial-maliy-451.jpg\n",
      "/Users/samedi/Documents/Coding/swans/data/val/initial-shipun-489.jpg\n",
      "/Users/samedi/Documents/Coding/swans/data/val/initial-klikun-428.jpg\n",
      "/Users/samedi/Documents/Coding/swans/data/val/initial-klikun-47.jpg\n",
      "/Users/samedi/Documents/Coding/swans/data/val/initial-klikun-1935.jpg\n",
      "/Users/samedi/Documents/Coding/swans/data/val/initial-maliy-8.jpg\n",
      "/Users/samedi/Documents/Coding/swans/data/val/initial-shipun-1696.jpg\n",
      "/Users/samedi/Documents/Coding/swans/data/val/initial-klikun-1262.jpg\n",
      "/Users/samedi/Documents/Coding/swans/data/val/initial-shipun-2176.jpg\n",
      "/Users/samedi/Documents/Coding/swans/data/val/initial-maliy-1532.jpg\n",
      "/Users/samedi/Documents/Coding/swans/data/val/initial-maliy-848.jpg\n",
      "/Users/samedi/Documents/Coding/swans/data/val/initial-shipun-11.jpg\n",
      "/Users/samedi/Documents/Coding/swans/data/val/initial-maliy-2991.jpg\n",
      "/Users/samedi/Documents/Coding/swans/data/val/initial-maliy-2761.jpg\n",
      "/Users/samedi/Documents/Coding/swans/data/val/initial-maliy-1154.jpg\n",
      "/Users/samedi/Documents/Coding/swans/data/val/initial-shipun-1019.jpg\n"
     ]
    },
    {
     "ename": "",
     "evalue": "",
     "output_type": "error",
     "traceback": [
      "\u001b[1;31mThe Kernel crashed while executing code in the the current cell or a previous cell. Please review the code in the cell(s) to identify a possible cause of the failure. Click <a href='https://aka.ms/vscodeJupyterKernelCrash'>here</a> for more info. View Jupyter <a href='command:jupyter.viewOutput'>log</a> for further details."
     ]
    }
   ],
   "source": [
    "df = pd.read_csv(path_val_annotation)\n",
    "for base_name in base_file_list:\n",
    "    pth_img = os.path.join(path_dataset, base_name + '.jpg')\n",
    "    pth_txt = os.path.join(path_dataset, base_name + '.txt')\n",
    "    if not os.path.exists(pth_img) or not os.path.exists(pth_txt):\n",
    "        print(pth_img, pth_txt)\n",
    "        continue\n",
    "\n",
    "    with open(pth_txt, 'r') as f:\n",
    "        lines = f.readlines()\n",
    "\n",
    "    img = cv2.imread(pth_img)\n",
    "    height, width, c = img.shape\n",
    "    # print(lines)\n",
    "    for idx, row in df[df['path']==pth_img].iterrows():\n",
    "        # print(row.split())\n",
    "        # id_c, cx, cy, w, h = row.split()\n",
    "        # id_c, cx, cy, w, h = int(id_c), float(cx), float(cy), float(w), float(h)\n",
    "        # x2, y2 = cx + w/2, cy + h/2\n",
    "        # x1, y1 = cx - w/2, cy - h/2\n",
    "\n",
    "        x1 = row.x_min\n",
    "        x2 = row.x_max\n",
    "        y1 = row.y_min\n",
    "        y2 = row.y_max\n",
    "\n",
    "        bbox = np.array((x1, y1, x2, y2)).reshape(-1,2) * np.array([width, height])\n",
    "        bbox = bbox.astype(int)\n",
    "        cv2.rectangle(img, bbox[0], bbox[1], color=id2color[row.label], thickness=1)\n",
    "    \n",
    "\n",
    "    # print(pth_img)\n",
    "    cv2.imshow('', img)\n",
    "    key = cv2.waitKey()\n",
    "    if key ==27:\n",
    "        break\n",
    "cv2.destroyAllWindows()\n"
   ]
  }
 ],
 "metadata": {
  "kernelspec": {
   "display_name": "Python 3",
   "language": "python",
   "name": "python3"
  },
  "language_info": {
   "codemirror_mode": {
    "name": "ipython",
    "version": 3
   },
   "file_extension": ".py",
   "mimetype": "text/x-python",
   "name": "python",
   "nbconvert_exporter": "python",
   "pygments_lexer": "ipython3",
   "version": "3.10.6"
  }
 },
 "nbformat": 4,
 "nbformat_minor": 0
}
