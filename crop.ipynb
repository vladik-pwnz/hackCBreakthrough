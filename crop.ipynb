{
 "cells": [
  {
   "cell_type": "code",
   "execution_count": null,
   "metadata": {},
   "outputs": [],
   "source": [
    "from PIL import Image\n",
    "import os\n",
    "\n",
    "def crop(yolo_tensor, path_to_file, file_name, path_to_save, SIZE = (224, 224)):\n",
    "    \n",
    "    matrix = yolo_tensor.detach().cpu().numpy()\n",
    "    labels = matrix[:,0]\n",
    "    coords = matrix[:,2:]\n",
    "    \n",
    "    img = Image.open(path_to_file + \"/\" + file_name)\n",
    "    \n",
    "    for i in len(coords): \n",
    "        im_crop = img.crop(tuple(coords[i]))\n",
    "        im_crop = im_crop.resize(SIZE, Image.ANTIALIAS)\n",
    "        im_crop.save('path_to_save/' + str(label) +'/crop_' + file_name + str(i) + '.jpg', quality=95)\n",
    "        print('crop saved')"
   ]
  }
 ],
 "metadata": {
  "kernelspec": {
   "display_name": "Python 3",
   "language": "python",
   "name": "python3"
  },
  "language_info": {
   "codemirror_mode": {
    "name": "ipython",
    "version": 3
   },
   "file_extension": ".py",
   "mimetype": "text/x-python",
   "name": "python",
   "nbconvert_exporter": "python",
   "pygments_lexer": "ipython3",
   "version": "3.8.3"
  }
 },
 "nbformat": 4,
 "nbformat_minor": 4
}
