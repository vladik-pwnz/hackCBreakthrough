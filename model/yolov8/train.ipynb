{
 "cells": [
  {
   "cell_type": "code",
   "execution_count": 1,
   "metadata": {},
   "outputs": [],
   "source": [
    "from ultralytics import YOLO"
   ]
  },
  {
   "cell_type": "code",
   "execution_count": 27,
   "metadata": {},
   "outputs": [
    {
     "name": "stdout",
     "output_type": "stream",
     "text": [
      "mps True\n"
     ]
    },
    {
     "data": {
      "text/plain": [
       "'cpu'"
      ]
     },
     "execution_count": 27,
     "metadata": {},
     "output_type": "execute_result"
    }
   ],
   "source": [
    "import torch\n",
    "\n",
    "device = 'cpu'\n",
    "# print('mps', torch.backends.mps.is_available())\n",
    "if torch.cuda.is_available():\n",
    "    device = '0'\n",
    "device"
   ]
  },
  {
   "cell_type": "code",
   "execution_count": 60,
   "metadata": {},
   "outputs": [
    {
     "name": "stderr",
     "output_type": "stream",
     "text": [
      "New https://pypi.org/project/ultralytics/8.0.109 available 😃 Update with 'pip install -U ultralytics'\n",
      "Ultralytics YOLOv8.0.107 🚀 Python-3.10.6 torch-2.0.1 CPU\n",
      "\u001b[34m\u001b[1myolo/engine/trainer: \u001b[0mtask=segment, mode=train, model=/Users/samedi/Documents/Coding/swans/model/yolov8/config/colab25.pt, data=/Users/samedi/Documents/Coding/swans/model/yolov8/config/swans-seg.yaml, epochs=35, patience=50, batch=16, imgsz=320, save=True, save_period=-1, cache=False, device=cpu, workers=8, project=None, name=None, exist_ok=False, pretrained=False, optimizer=SGD, verbose=True, seed=0, deterministic=True, single_cls=False, rect=False, cos_lr=False, close_mosaic=0, resume=False, amp=True, overlap_mask=True, mask_ratio=4, dropout=0.0, val=True, split=val, save_json=False, save_hybrid=False, conf=None, iou=0.7, max_det=300, half=False, dnn=False, plots=True, source=None, show=False, save_txt=False, save_conf=False, save_crop=False, show_labels=True, show_conf=True, vid_stride=1, line_width=None, visualize=False, augment=False, agnostic_nms=False, classes=None, retina_masks=False, boxes=True, format=torchscript, keras=False, optimize=False, int8=False, dynamic=False, simplify=False, opset=None, workspace=4, nms=False, lr0=0.01, lrf=0.01, momentum=0.937, weight_decay=0.0005, warmup_epochs=3.0, warmup_momentum=0.8, warmup_bias_lr=0.1, box=7.5, cls=0.5, dfl=1.5, pose=12.0, kobj=1.0, label_smoothing=0.0, nbs=64, hsv_h=0.015, hsv_s=0.7, hsv_v=0.4, degrees=0.0, translate=0.1, scale=0.5, shear=0.0, perspective=0.0, flipud=0.0, fliplr=0.5, mosaic=1.0, mixup=0.0, copy_paste=0.0, cfg=None, v5loader=False, tracker=botsort.yaml, save_dir=runs/segment/train\n",
      "\n",
      "                   from  n    params  module                                       arguments                     \n",
      "  0                  -1  1       464  ultralytics.nn.modules.conv.Conv             [3, 16, 3, 2]                 \n",
      "  1                  -1  1      4672  ultralytics.nn.modules.conv.Conv             [16, 32, 3, 2]                \n",
      "  2                  -1  1      7360  ultralytics.nn.modules.block.C2f             [32, 32, 1, True]             \n",
      "  3                  -1  1     18560  ultralytics.nn.modules.conv.Conv             [32, 64, 3, 2]                \n",
      "  4                  -1  2     49664  ultralytics.nn.modules.block.C2f             [64, 64, 2, True]             \n",
      "  5                  -1  1     73984  ultralytics.nn.modules.conv.Conv             [64, 128, 3, 2]               \n",
      "  6                  -1  2    197632  ultralytics.nn.modules.block.C2f             [128, 128, 2, True]           \n",
      "  7                  -1  1    295424  ultralytics.nn.modules.conv.Conv             [128, 256, 3, 2]              \n",
      "  8                  -1  1    460288  ultralytics.nn.modules.block.C2f             [256, 256, 1, True]           \n",
      "  9                  -1  1    164608  ultralytics.nn.modules.block.SPPF            [256, 256, 5]                 \n",
      " 10                  -1  1         0  torch.nn.modules.upsampling.Upsample         [None, 2, 'nearest']          \n",
      " 11             [-1, 6]  1         0  ultralytics.nn.modules.conv.Concat           [1]                           \n",
      " 12                  -1  1    148224  ultralytics.nn.modules.block.C2f             [384, 128, 1]                 \n",
      " 13                  -1  1         0  torch.nn.modules.upsampling.Upsample         [None, 2, 'nearest']          \n",
      " 14             [-1, 4]  1         0  ultralytics.nn.modules.conv.Concat           [1]                           \n",
      " 15                  -1  1     37248  ultralytics.nn.modules.block.C2f             [192, 64, 1]                  \n",
      " 16                  -1  1     36992  ultralytics.nn.modules.conv.Conv             [64, 64, 3, 2]                \n",
      " 17            [-1, 12]  1         0  ultralytics.nn.modules.conv.Concat           [1]                           \n",
      " 18                  -1  1    123648  ultralytics.nn.modules.block.C2f             [192, 128, 1]                 \n",
      " 19                  -1  1    147712  ultralytics.nn.modules.conv.Conv             [128, 128, 3, 2]              \n",
      " 20             [-1, 9]  1         0  ultralytics.nn.modules.conv.Concat           [1]                           \n",
      " 21                  -1  1    493056  ultralytics.nn.modules.block.C2f             [384, 256, 1]                 \n",
      " 22        [15, 18, 21]  1   1004275  ultralytics.nn.modules.head.Segment          [1, 32, 64, [64, 128, 256]]   \n",
      "YOLOv8n-seg summary: 261 layers, 3263811 parameters, 3263795 gradients\n",
      "\n",
      "Transferred 417/417 items from pretrained weights\n",
      "\u001b[34m\u001b[1mTensorBoard: \u001b[0mStart with 'tensorboard --logdir runs/segment/train', view at http://localhost:6006/\n",
      "\u001b[34m\u001b[1moptimizer:\u001b[0m SGD(lr=0.01) with parameter groups 66 weight(decay=0.0), 77 weight(decay=0.0005), 76 bias\n"
     ]
    },
    {
     "ename": "KeyboardInterrupt",
     "evalue": "",
     "output_type": "error",
     "traceback": [
      "\u001b[0;31m---------------------------------------------------------------------------\u001b[0m",
      "\u001b[0;31mAssertionError\u001b[0m                            Traceback (most recent call last)",
      "File \u001b[0;32m/Library/Frameworks/Python.framework/Versions/3.10/lib/python3.10/site-packages/ultralytics/yolo/data/dataset.py:111\u001b[0m, in \u001b[0;36mYOLODataset.get_labels\u001b[0;34m(self)\u001b[0m\n\u001b[1;32m    110\u001b[0m     \u001b[39massert\u001b[39;00m cache[\u001b[39m'\u001b[39m\u001b[39mversion\u001b[39m\u001b[39m'\u001b[39m] \u001b[39m==\u001b[39m \u001b[39mself\u001b[39m\u001b[39m.\u001b[39mcache_version  \u001b[39m# matches current version\u001b[39;00m\n\u001b[0;32m--> 111\u001b[0m     \u001b[39massert\u001b[39;00m cache[\u001b[39m'\u001b[39m\u001b[39mhash\u001b[39m\u001b[39m'\u001b[39m] \u001b[39m==\u001b[39m get_hash(\u001b[39mself\u001b[39m\u001b[39m.\u001b[39mlabel_files \u001b[39m+\u001b[39m \u001b[39mself\u001b[39m\u001b[39m.\u001b[39mim_files)  \u001b[39m# identical hash\u001b[39;00m\n\u001b[1;32m    112\u001b[0m \u001b[39mexcept\u001b[39;00m (\u001b[39mFileNotFoundError\u001b[39;00m, \u001b[39mAssertionError\u001b[39;00m, \u001b[39mAttributeError\u001b[39;00m):\n",
      "\u001b[0;31mAssertionError\u001b[0m: ",
      "\nDuring handling of the above exception, another exception occurred:\n",
      "\u001b[0;31mKeyboardInterrupt\u001b[0m                         Traceback (most recent call last)",
      "\u001b[1;32m/Users/samedi/Documents/Coding/swans/model/yolov8/train.ipynb Cell 4\u001b[0m in \u001b[0;36m<cell line: 1>\u001b[0;34m()\u001b[0m\n\u001b[0;32m----> <a href='vscode-notebook-cell:/Users/samedi/Documents/Coding/swans/model/yolov8/train.ipynb#W2sZmlsZQ%3D%3D?line=0'>1</a>\u001b[0m model\u001b[39m.\u001b[39;49mtrain(data\u001b[39m=\u001b[39;49m\u001b[39m\"\u001b[39;49m\u001b[39m/Users/samedi/Documents/Coding/swans/model/yolov8/config/swans-seg.yaml\u001b[39;49m\u001b[39m\"\u001b[39;49m, \n\u001b[1;32m      <a href='vscode-notebook-cell:/Users/samedi/Documents/Coding/swans/model/yolov8/train.ipynb#W2sZmlsZQ%3D%3D?line=1'>2</a>\u001b[0m             epochs\u001b[39m=\u001b[39;49m\u001b[39m35\u001b[39;49m, \n\u001b[1;32m      <a href='vscode-notebook-cell:/Users/samedi/Documents/Coding/swans/model/yolov8/train.ipynb#W2sZmlsZQ%3D%3D?line=2'>3</a>\u001b[0m             device\u001b[39m=\u001b[39;49mdevice, \n\u001b[1;32m      <a href='vscode-notebook-cell:/Users/samedi/Documents/Coding/swans/model/yolov8/train.ipynb#W2sZmlsZQ%3D%3D?line=3'>4</a>\u001b[0m             imgsz\u001b[39m=\u001b[39;49m\u001b[39m320\u001b[39;49m,\n\u001b[1;32m      <a href='vscode-notebook-cell:/Users/samedi/Documents/Coding/swans/model/yolov8/train.ipynb#W2sZmlsZQ%3D%3D?line=4'>5</a>\u001b[0m             resume\u001b[39m=\u001b[39;49m\u001b[39mFalse\u001b[39;49;00m)\n\u001b[1;32m      <a href='vscode-notebook-cell:/Users/samedi/Documents/Coding/swans/model/yolov8/train.ipynb#W2sZmlsZQ%3D%3D?line=5'>6</a>\u001b[0m metrics \u001b[39m=\u001b[39m model\u001b[39m.\u001b[39mval()\n",
      "File \u001b[0;32m/Library/Frameworks/Python.framework/Versions/3.10/lib/python3.10/site-packages/ultralytics/yolo/engine/model.py:371\u001b[0m, in \u001b[0;36mYOLO.train\u001b[0;34m(self, **kwargs)\u001b[0m\n\u001b[1;32m    369\u001b[0m     \u001b[39mself\u001b[39m\u001b[39m.\u001b[39mmodel \u001b[39m=\u001b[39m \u001b[39mself\u001b[39m\u001b[39m.\u001b[39mtrainer\u001b[39m.\u001b[39mmodel\n\u001b[1;32m    370\u001b[0m \u001b[39mself\u001b[39m\u001b[39m.\u001b[39mtrainer\u001b[39m.\u001b[39mhub_session \u001b[39m=\u001b[39m \u001b[39mself\u001b[39m\u001b[39m.\u001b[39msession  \u001b[39m# attach optional HUB session\u001b[39;00m\n\u001b[0;32m--> 371\u001b[0m \u001b[39mself\u001b[39;49m\u001b[39m.\u001b[39;49mtrainer\u001b[39m.\u001b[39;49mtrain()\n\u001b[1;32m    372\u001b[0m \u001b[39m# Update model and cfg after training\u001b[39;00m\n\u001b[1;32m    373\u001b[0m \u001b[39mif\u001b[39;00m RANK \u001b[39min\u001b[39;00m (\u001b[39m-\u001b[39m\u001b[39m1\u001b[39m, \u001b[39m0\u001b[39m):\n",
      "File \u001b[0;32m/Library/Frameworks/Python.framework/Versions/3.10/lib/python3.10/site-packages/ultralytics/yolo/engine/trainer.py:192\u001b[0m, in \u001b[0;36mBaseTrainer.train\u001b[0;34m(self)\u001b[0m\n\u001b[1;32m    190\u001b[0m         ddp_cleanup(\u001b[39mself\u001b[39m, \u001b[39mstr\u001b[39m(file))\n\u001b[1;32m    191\u001b[0m \u001b[39melse\u001b[39;00m:\n\u001b[0;32m--> 192\u001b[0m     \u001b[39mself\u001b[39;49m\u001b[39m.\u001b[39;49m_do_train(world_size)\n",
      "File \u001b[0;32m/Library/Frameworks/Python.framework/Versions/3.10/lib/python3.10/site-packages/ultralytics/yolo/engine/trainer.py:273\u001b[0m, in \u001b[0;36mBaseTrainer._do_train\u001b[0;34m(self, world_size)\u001b[0m\n\u001b[1;32m    270\u001b[0m \u001b[39mif\u001b[39;00m world_size \u001b[39m>\u001b[39m \u001b[39m1\u001b[39m:\n\u001b[1;32m    271\u001b[0m     \u001b[39mself\u001b[39m\u001b[39m.\u001b[39m_setup_ddp(world_size)\n\u001b[0;32m--> 273\u001b[0m \u001b[39mself\u001b[39;49m\u001b[39m.\u001b[39;49m_setup_train(world_size)\n\u001b[1;32m    275\u001b[0m \u001b[39mself\u001b[39m\u001b[39m.\u001b[39mepoch_time \u001b[39m=\u001b[39m \u001b[39mNone\u001b[39;00m\n\u001b[1;32m    276\u001b[0m \u001b[39mself\u001b[39m\u001b[39m.\u001b[39mepoch_time_start \u001b[39m=\u001b[39m time\u001b[39m.\u001b[39mtime()\n",
      "File \u001b[0;32m/Library/Frameworks/Python.framework/Versions/3.10/lib/python3.10/site-packages/ultralytics/yolo/engine/trainer.py:255\u001b[0m, in \u001b[0;36mBaseTrainer._setup_train\u001b[0;34m(self, world_size)\u001b[0m\n\u001b[1;32m    253\u001b[0m \u001b[39m# Dataloaders\u001b[39;00m\n\u001b[1;32m    254\u001b[0m batch_size \u001b[39m=\u001b[39m \u001b[39mself\u001b[39m\u001b[39m.\u001b[39mbatch_size \u001b[39m/\u001b[39m\u001b[39m/\u001b[39m world_size \u001b[39mif\u001b[39;00m world_size \u001b[39m>\u001b[39m \u001b[39m1\u001b[39m \u001b[39melse\u001b[39;00m \u001b[39mself\u001b[39m\u001b[39m.\u001b[39mbatch_size\n\u001b[0;32m--> 255\u001b[0m \u001b[39mself\u001b[39m\u001b[39m.\u001b[39mtrain_loader \u001b[39m=\u001b[39m \u001b[39mself\u001b[39;49m\u001b[39m.\u001b[39;49mget_dataloader(\u001b[39mself\u001b[39;49m\u001b[39m.\u001b[39;49mtrainset, batch_size\u001b[39m=\u001b[39;49mbatch_size, rank\u001b[39m=\u001b[39;49mRANK, mode\u001b[39m=\u001b[39;49m\u001b[39m'\u001b[39;49m\u001b[39mtrain\u001b[39;49m\u001b[39m'\u001b[39;49m)\n\u001b[1;32m    256\u001b[0m \u001b[39mif\u001b[39;00m RANK \u001b[39min\u001b[39;00m (\u001b[39m-\u001b[39m\u001b[39m1\u001b[39m, \u001b[39m0\u001b[39m):\n\u001b[1;32m    257\u001b[0m     \u001b[39mself\u001b[39m\u001b[39m.\u001b[39mtest_loader \u001b[39m=\u001b[39m \u001b[39mself\u001b[39m\u001b[39m.\u001b[39mget_dataloader(\u001b[39mself\u001b[39m\u001b[39m.\u001b[39mtestset, batch_size\u001b[39m=\u001b[39mbatch_size \u001b[39m*\u001b[39m \u001b[39m2\u001b[39m, rank\u001b[39m=\u001b[39m\u001b[39m-\u001b[39m\u001b[39m1\u001b[39m, mode\u001b[39m=\u001b[39m\u001b[39m'\u001b[39m\u001b[39mval\u001b[39m\u001b[39m'\u001b[39m)\n",
      "File \u001b[0;32m/Library/Frameworks/Python.framework/Versions/3.10/lib/python3.10/site-packages/ultralytics/yolo/v8/detect/train.py:59\u001b[0m, in \u001b[0;36mDetectionTrainer.get_dataloader\u001b[0;34m(self, dataset_path, batch_size, rank, mode)\u001b[0m\n\u001b[1;32m     57\u001b[0m \u001b[39massert\u001b[39;00m mode \u001b[39min\u001b[39;00m [\u001b[39m'\u001b[39m\u001b[39mtrain\u001b[39m\u001b[39m'\u001b[39m, \u001b[39m'\u001b[39m\u001b[39mval\u001b[39m\u001b[39m'\u001b[39m]\n\u001b[1;32m     58\u001b[0m \u001b[39mwith\u001b[39;00m torch_distributed_zero_first(rank):  \u001b[39m# init dataset *.cache only once if DDP\u001b[39;00m\n\u001b[0;32m---> 59\u001b[0m     dataset \u001b[39m=\u001b[39m \u001b[39mself\u001b[39;49m\u001b[39m.\u001b[39;49mbuild_dataset(dataset_path, mode, batch_size)\n\u001b[1;32m     60\u001b[0m shuffle \u001b[39m=\u001b[39m mode \u001b[39m==\u001b[39m \u001b[39m'\u001b[39m\u001b[39mtrain\u001b[39m\u001b[39m'\u001b[39m\n\u001b[1;32m     61\u001b[0m \u001b[39mif\u001b[39;00m \u001b[39mgetattr\u001b[39m(dataset, \u001b[39m'\u001b[39m\u001b[39mrect\u001b[39m\u001b[39m'\u001b[39m, \u001b[39mFalse\u001b[39;00m) \u001b[39mand\u001b[39;00m shuffle:\n",
      "File \u001b[0;32m/Library/Frameworks/Python.framework/Versions/3.10/lib/python3.10/site-packages/ultralytics/yolo/v8/detect/train.py:33\u001b[0m, in \u001b[0;36mDetectionTrainer.build_dataset\u001b[0;34m(self, img_path, mode, batch)\u001b[0m\n\u001b[1;32m     25\u001b[0m \u001b[39m\"\"\"Build YOLO Dataset\u001b[39;00m\n\u001b[1;32m     26\u001b[0m \n\u001b[1;32m     27\u001b[0m \u001b[39mArgs:\u001b[39;00m\n\u001b[0;32m   (...)\u001b[0m\n\u001b[1;32m     30\u001b[0m \u001b[39m    batch (int, optional): Size of batches, this is for `rect`. Defaults to None.\u001b[39;00m\n\u001b[1;32m     31\u001b[0m \u001b[39m\"\"\"\u001b[39;00m\n\u001b[1;32m     32\u001b[0m gs \u001b[39m=\u001b[39m \u001b[39mmax\u001b[39m(\u001b[39mint\u001b[39m(de_parallel(\u001b[39mself\u001b[39m\u001b[39m.\u001b[39mmodel)\u001b[39m.\u001b[39mstride\u001b[39m.\u001b[39mmax() \u001b[39mif\u001b[39;00m \u001b[39mself\u001b[39m\u001b[39m.\u001b[39mmodel \u001b[39melse\u001b[39;00m \u001b[39m0\u001b[39m), \u001b[39m32\u001b[39m)\n\u001b[0;32m---> 33\u001b[0m \u001b[39mreturn\u001b[39;00m build_yolo_dataset(\u001b[39mself\u001b[39;49m\u001b[39m.\u001b[39;49margs, img_path, batch, \u001b[39mself\u001b[39;49m\u001b[39m.\u001b[39;49mdata, mode\u001b[39m=\u001b[39;49mmode, rect\u001b[39m=\u001b[39;49mmode \u001b[39m==\u001b[39;49m \u001b[39m'\u001b[39;49m\u001b[39mval\u001b[39;49m\u001b[39m'\u001b[39;49m, stride\u001b[39m=\u001b[39;49mgs)\n",
      "File \u001b[0;32m/Library/Frameworks/Python.framework/Versions/3.10/lib/python3.10/site-packages/ultralytics/yolo/data/build.py:74\u001b[0m, in \u001b[0;36mbuild_yolo_dataset\u001b[0;34m(cfg, img_path, batch, data_info, mode, rect, stride)\u001b[0m\n\u001b[1;32m     72\u001b[0m \u001b[39mdef\u001b[39;00m \u001b[39mbuild_yolo_dataset\u001b[39m(cfg, img_path, batch, data_info, mode\u001b[39m=\u001b[39m\u001b[39m'\u001b[39m\u001b[39mtrain\u001b[39m\u001b[39m'\u001b[39m, rect\u001b[39m=\u001b[39m\u001b[39mFalse\u001b[39;00m, stride\u001b[39m=\u001b[39m\u001b[39m32\u001b[39m):\n\u001b[1;32m     73\u001b[0m     \u001b[39m\"\"\"Build YOLO Dataset\"\"\"\u001b[39;00m\n\u001b[0;32m---> 74\u001b[0m     \u001b[39mreturn\u001b[39;00m YOLODataset(\n\u001b[1;32m     75\u001b[0m         img_path\u001b[39m=\u001b[39;49mimg_path,\n\u001b[1;32m     76\u001b[0m         imgsz\u001b[39m=\u001b[39;49mcfg\u001b[39m.\u001b[39;49mimgsz,\n\u001b[1;32m     77\u001b[0m         batch_size\u001b[39m=\u001b[39;49mbatch,\n\u001b[1;32m     78\u001b[0m         augment\u001b[39m=\u001b[39;49mmode \u001b[39m==\u001b[39;49m \u001b[39m'\u001b[39;49m\u001b[39mtrain\u001b[39;49m\u001b[39m'\u001b[39;49m,  \u001b[39m# augmentation\u001b[39;49;00m\n\u001b[1;32m     79\u001b[0m         hyp\u001b[39m=\u001b[39;49mcfg,  \u001b[39m# TODO: probably add a get_hyps_from_cfg function\u001b[39;49;00m\n\u001b[1;32m     80\u001b[0m         rect\u001b[39m=\u001b[39;49mcfg\u001b[39m.\u001b[39;49mrect \u001b[39mor\u001b[39;49;00m rect,  \u001b[39m# rectangular batches\u001b[39;49;00m\n\u001b[1;32m     81\u001b[0m         cache\u001b[39m=\u001b[39;49mcfg\u001b[39m.\u001b[39;49mcache \u001b[39mor\u001b[39;49;00m \u001b[39mNone\u001b[39;49;00m,\n\u001b[1;32m     82\u001b[0m         single_cls\u001b[39m=\u001b[39;49mcfg\u001b[39m.\u001b[39;49msingle_cls \u001b[39mor\u001b[39;49;00m \u001b[39mFalse\u001b[39;49;00m,\n\u001b[1;32m     83\u001b[0m         stride\u001b[39m=\u001b[39;49m\u001b[39mint\u001b[39;49m(stride),\n\u001b[1;32m     84\u001b[0m         pad\u001b[39m=\u001b[39;49m\u001b[39m0.0\u001b[39;49m \u001b[39mif\u001b[39;49;00m mode \u001b[39m==\u001b[39;49m \u001b[39m'\u001b[39;49m\u001b[39mtrain\u001b[39;49m\u001b[39m'\u001b[39;49m \u001b[39melse\u001b[39;49;00m \u001b[39m0.5\u001b[39;49m,\n\u001b[1;32m     85\u001b[0m         prefix\u001b[39m=\u001b[39;49mcolorstr(\u001b[39mf\u001b[39;49m\u001b[39m'\u001b[39;49m\u001b[39m{\u001b[39;49;00mmode\u001b[39m}\u001b[39;49;00m\u001b[39m: \u001b[39;49m\u001b[39m'\u001b[39;49m),\n\u001b[1;32m     86\u001b[0m         use_segments\u001b[39m=\u001b[39;49mcfg\u001b[39m.\u001b[39;49mtask \u001b[39m==\u001b[39;49m \u001b[39m'\u001b[39;49m\u001b[39msegment\u001b[39;49m\u001b[39m'\u001b[39;49m,\n\u001b[1;32m     87\u001b[0m         use_keypoints\u001b[39m=\u001b[39;49mcfg\u001b[39m.\u001b[39;49mtask \u001b[39m==\u001b[39;49m \u001b[39m'\u001b[39;49m\u001b[39mpose\u001b[39;49m\u001b[39m'\u001b[39;49m,\n\u001b[1;32m     88\u001b[0m         classes\u001b[39m=\u001b[39;49mcfg\u001b[39m.\u001b[39;49mclasses,\n\u001b[1;32m     89\u001b[0m         data\u001b[39m=\u001b[39;49mdata_info)\n",
      "File \u001b[0;32m/Library/Frameworks/Python.framework/Versions/3.10/lib/python3.10/site-packages/ultralytics/yolo/data/dataset.py:39\u001b[0m, in \u001b[0;36mYOLODataset.__init__\u001b[0;34m(self, data, use_segments, use_keypoints, *args, **kwargs)\u001b[0m\n\u001b[1;32m     37\u001b[0m \u001b[39mself\u001b[39m\u001b[39m.\u001b[39mdata \u001b[39m=\u001b[39m data\n\u001b[1;32m     38\u001b[0m \u001b[39massert\u001b[39;00m \u001b[39mnot\u001b[39;00m (\u001b[39mself\u001b[39m\u001b[39m.\u001b[39muse_segments \u001b[39mand\u001b[39;00m \u001b[39mself\u001b[39m\u001b[39m.\u001b[39muse_keypoints), \u001b[39m'\u001b[39m\u001b[39mCan not use both segments and keypoints.\u001b[39m\u001b[39m'\u001b[39m\n\u001b[0;32m---> 39\u001b[0m \u001b[39msuper\u001b[39;49m()\u001b[39m.\u001b[39;49m\u001b[39m__init__\u001b[39;49m(\u001b[39m*\u001b[39;49margs, \u001b[39m*\u001b[39;49m\u001b[39m*\u001b[39;49mkwargs)\n",
      "File \u001b[0;32m/Library/Frameworks/Python.framework/Versions/3.10/lib/python3.10/site-packages/ultralytics/yolo/data/base.py:69\u001b[0m, in \u001b[0;36mBaseDataset.__init__\u001b[0;34m(self, img_path, imgsz, cache, augment, hyp, prefix, rect, batch_size, stride, pad, single_cls, classes)\u001b[0m\n\u001b[1;32m     67\u001b[0m \u001b[39mself\u001b[39m\u001b[39m.\u001b[39mprefix \u001b[39m=\u001b[39m prefix\n\u001b[1;32m     68\u001b[0m \u001b[39mself\u001b[39m\u001b[39m.\u001b[39mim_files \u001b[39m=\u001b[39m \u001b[39mself\u001b[39m\u001b[39m.\u001b[39mget_img_files(\u001b[39mself\u001b[39m\u001b[39m.\u001b[39mimg_path)\n\u001b[0;32m---> 69\u001b[0m \u001b[39mself\u001b[39m\u001b[39m.\u001b[39mlabels \u001b[39m=\u001b[39m \u001b[39mself\u001b[39;49m\u001b[39m.\u001b[39;49mget_labels()\n\u001b[1;32m     70\u001b[0m \u001b[39mself\u001b[39m\u001b[39m.\u001b[39mupdate_labels(include_class\u001b[39m=\u001b[39mclasses)  \u001b[39m# single_cls and include_class\u001b[39;00m\n\u001b[1;32m     71\u001b[0m \u001b[39mself\u001b[39m\u001b[39m.\u001b[39mni \u001b[39m=\u001b[39m \u001b[39mlen\u001b[39m(\u001b[39mself\u001b[39m\u001b[39m.\u001b[39mlabels)  \u001b[39m# number of images\u001b[39;00m\n",
      "File \u001b[0;32m/Library/Frameworks/Python.framework/Versions/3.10/lib/python3.10/site-packages/ultralytics/yolo/data/dataset.py:113\u001b[0m, in \u001b[0;36mYOLODataset.get_labels\u001b[0;34m(self)\u001b[0m\n\u001b[1;32m    111\u001b[0m     \u001b[39massert\u001b[39;00m cache[\u001b[39m'\u001b[39m\u001b[39mhash\u001b[39m\u001b[39m'\u001b[39m] \u001b[39m==\u001b[39m get_hash(\u001b[39mself\u001b[39m\u001b[39m.\u001b[39mlabel_files \u001b[39m+\u001b[39m \u001b[39mself\u001b[39m\u001b[39m.\u001b[39mim_files)  \u001b[39m# identical hash\u001b[39;00m\n\u001b[1;32m    112\u001b[0m \u001b[39mexcept\u001b[39;00m (\u001b[39mFileNotFoundError\u001b[39;00m, \u001b[39mAssertionError\u001b[39;00m, \u001b[39mAttributeError\u001b[39;00m):\n\u001b[0;32m--> 113\u001b[0m     cache, exists \u001b[39m=\u001b[39m \u001b[39mself\u001b[39;49m\u001b[39m.\u001b[39;49mcache_labels(cache_path), \u001b[39mFalse\u001b[39;00m  \u001b[39m# run cache ops\u001b[39;00m\n\u001b[1;32m    115\u001b[0m \u001b[39m# Display cache\u001b[39;00m\n\u001b[1;32m    116\u001b[0m nf, nm, ne, nc, n \u001b[39m=\u001b[39m cache\u001b[39m.\u001b[39mpop(\u001b[39m'\u001b[39m\u001b[39mresults\u001b[39m\u001b[39m'\u001b[39m)  \u001b[39m# found, missing, empty, corrupt, total\u001b[39;00m\n",
      "File \u001b[0;32m/Library/Frameworks/Python.framework/Versions/3.10/lib/python3.10/site-packages/ultralytics/yolo/data/dataset.py:61\u001b[0m, in \u001b[0;36mYOLODataset.cache_labels\u001b[0;34m(self, path)\u001b[0m\n\u001b[1;32m     56\u001b[0m \u001b[39mwith\u001b[39;00m ThreadPool(NUM_THREADS) \u001b[39mas\u001b[39;00m pool:\n\u001b[1;32m     57\u001b[0m     results \u001b[39m=\u001b[39m pool\u001b[39m.\u001b[39mimap(func\u001b[39m=\u001b[39mverify_image_label,\n\u001b[1;32m     58\u001b[0m                         iterable\u001b[39m=\u001b[39m\u001b[39mzip\u001b[39m(\u001b[39mself\u001b[39m\u001b[39m.\u001b[39mim_files, \u001b[39mself\u001b[39m\u001b[39m.\u001b[39mlabel_files, repeat(\u001b[39mself\u001b[39m\u001b[39m.\u001b[39mprefix),\n\u001b[1;32m     59\u001b[0m                                      repeat(\u001b[39mself\u001b[39m\u001b[39m.\u001b[39muse_keypoints), repeat(\u001b[39mlen\u001b[39m(\u001b[39mself\u001b[39m\u001b[39m.\u001b[39mdata[\u001b[39m'\u001b[39m\u001b[39mnames\u001b[39m\u001b[39m'\u001b[39m])), repeat(nkpt),\n\u001b[1;32m     60\u001b[0m                                      repeat(ndim)))\n\u001b[0;32m---> 61\u001b[0m     pbar \u001b[39m=\u001b[39m tqdm(results, desc\u001b[39m=\u001b[39;49mdesc, total\u001b[39m=\u001b[39;49mtotal, bar_format\u001b[39m=\u001b[39;49mTQDM_BAR_FORMAT)\n\u001b[1;32m     62\u001b[0m     \u001b[39mfor\u001b[39;00m im_file, lb, shape, segments, keypoint, nm_f, nf_f, ne_f, nc_f, msg \u001b[39min\u001b[39;00m pbar:\n\u001b[1;32m     63\u001b[0m         nm \u001b[39m+\u001b[39m\u001b[39m=\u001b[39m nm_f\n",
      "File \u001b[0;32m/Library/Frameworks/Python.framework/Versions/3.10/lib/python3.10/site-packages/tqdm/std.py:1093\u001b[0m, in \u001b[0;36mtqdm.__init__\u001b[0;34m(self, iterable, desc, total, leave, file, ncols, mininterval, maxinterval, miniters, ascii, disable, unit, unit_scale, dynamic_ncols, smoothing, bar_format, initial, position, postfix, unit_divisor, write_bytes, lock_args, nrows, colour, delay, gui, **kwargs)\u001b[0m\n\u001b[1;32m   1089\u001b[0m     \u001b[39mself\u001b[39m\u001b[39m.\u001b[39mpos \u001b[39m=\u001b[39m \u001b[39mself\u001b[39m\u001b[39m.\u001b[39m_get_free_pos(\u001b[39mself\u001b[39m) \u001b[39mif\u001b[39;00m position \u001b[39mis\u001b[39;00m \u001b[39mNone\u001b[39;00m \u001b[39melse\u001b[39;00m \u001b[39m-\u001b[39mposition\n\u001b[1;32m   1091\u001b[0m \u001b[39mif\u001b[39;00m \u001b[39mnot\u001b[39;00m gui:\n\u001b[1;32m   1092\u001b[0m     \u001b[39m# Initialize the screen printer\u001b[39;00m\n\u001b[0;32m-> 1093\u001b[0m     \u001b[39mself\u001b[39m\u001b[39m.\u001b[39msp \u001b[39m=\u001b[39m \u001b[39mself\u001b[39;49m\u001b[39m.\u001b[39;49mstatus_printer(\u001b[39mself\u001b[39;49m\u001b[39m.\u001b[39;49mfp)\n\u001b[1;32m   1094\u001b[0m     \u001b[39mif\u001b[39;00m delay \u001b[39m<\u001b[39m\u001b[39m=\u001b[39m \u001b[39m0\u001b[39m:\n\u001b[1;32m   1095\u001b[0m         \u001b[39mself\u001b[39m\u001b[39m.\u001b[39mrefresh(lock_args\u001b[39m=\u001b[39m\u001b[39mself\u001b[39m\u001b[39m.\u001b[39mlock_args)\n",
      "File \u001b[0;32m/Library/Frameworks/Python.framework/Versions/3.10/lib/python3.10/site-packages/tqdm/std.py:336\u001b[0m, in \u001b[0;36mtqdm.status_printer\u001b[0;34m(file)\u001b[0m\n\u001b[1;32m    334\u001b[0m fp_flush \u001b[39m=\u001b[39m \u001b[39mgetattr\u001b[39m(fp, \u001b[39m'\u001b[39m\u001b[39mflush\u001b[39m\u001b[39m'\u001b[39m, \u001b[39mlambda\u001b[39;00m: \u001b[39mNone\u001b[39;00m)  \u001b[39m# pragma: no cover\u001b[39;00m\n\u001b[1;32m    335\u001b[0m \u001b[39mif\u001b[39;00m fp \u001b[39min\u001b[39;00m (sys\u001b[39m.\u001b[39mstderr, sys\u001b[39m.\u001b[39mstdout):\n\u001b[0;32m--> 336\u001b[0m     \u001b[39mgetattr\u001b[39;49m(sys\u001b[39m.\u001b[39;49mstderr, \u001b[39m'\u001b[39;49m\u001b[39mflush\u001b[39;49m\u001b[39m'\u001b[39;49m, \u001b[39mlambda\u001b[39;49;00m: \u001b[39mNone\u001b[39;49;00m)()\n\u001b[1;32m    337\u001b[0m     \u001b[39mgetattr\u001b[39m(sys\u001b[39m.\u001b[39mstdout, \u001b[39m'\u001b[39m\u001b[39mflush\u001b[39m\u001b[39m'\u001b[39m, \u001b[39mlambda\u001b[39;00m: \u001b[39mNone\u001b[39;00m)()\n\u001b[1;32m    339\u001b[0m \u001b[39mdef\u001b[39;00m \u001b[39mfp_write\u001b[39m(s):\n",
      "File \u001b[0;32m/Library/Frameworks/Python.framework/Versions/3.10/lib/python3.10/site-packages/ipykernel/iostream.py:475\u001b[0m, in \u001b[0;36mOutStream.flush\u001b[0;34m(self)\u001b[0m\n\u001b[1;32m    464\u001b[0m \u001b[39m\"\"\"trigger actual zmq send\u001b[39;00m\n\u001b[1;32m    465\u001b[0m \n\u001b[1;32m    466\u001b[0m \u001b[39msend will happen in the background thread\u001b[39;00m\n\u001b[1;32m    467\u001b[0m \u001b[39m\"\"\"\u001b[39;00m\n\u001b[1;32m    468\u001b[0m \u001b[39mif\u001b[39;00m (\n\u001b[1;32m    469\u001b[0m     \u001b[39mself\u001b[39m\u001b[39m.\u001b[39mpub_thread\n\u001b[1;32m    470\u001b[0m     \u001b[39mand\u001b[39;00m \u001b[39mself\u001b[39m\u001b[39m.\u001b[39mpub_thread\u001b[39m.\u001b[39mthread \u001b[39mis\u001b[39;00m \u001b[39mnot\u001b[39;00m \u001b[39mNone\u001b[39;00m\n\u001b[0;32m   (...)\u001b[0m\n\u001b[1;32m    473\u001b[0m ):\n\u001b[1;32m    474\u001b[0m     \u001b[39m# request flush on the background thread\u001b[39;00m\n\u001b[0;32m--> 475\u001b[0m     \u001b[39mself\u001b[39;49m\u001b[39m.\u001b[39;49mpub_thread\u001b[39m.\u001b[39;49mschedule(\u001b[39mself\u001b[39;49m\u001b[39m.\u001b[39;49m_flush)\n\u001b[1;32m    476\u001b[0m     \u001b[39m# wait for flush to actually get through, if we can.\u001b[39;00m\n\u001b[1;32m    477\u001b[0m     evt \u001b[39m=\u001b[39m threading\u001b[39m.\u001b[39mEvent()\n",
      "File \u001b[0;32m/Library/Frameworks/Python.framework/Versions/3.10/lib/python3.10/site-packages/ipykernel/iostream.py:210\u001b[0m, in \u001b[0;36mIOPubThread.schedule\u001b[0;34m(self, f)\u001b[0m\n\u001b[1;32m    208\u001b[0m     \u001b[39mself\u001b[39m\u001b[39m.\u001b[39m_events\u001b[39m.\u001b[39mappend(f)\n\u001b[1;32m    209\u001b[0m     \u001b[39m# wake event thread (message content is ignored)\u001b[39;00m\n\u001b[0;32m--> 210\u001b[0m     \u001b[39mself\u001b[39;49m\u001b[39m.\u001b[39;49m_event_pipe\u001b[39m.\u001b[39;49msend(\u001b[39mb\u001b[39;49m\u001b[39m\"\u001b[39;49m\u001b[39m\"\u001b[39;49m)\n\u001b[1;32m    211\u001b[0m \u001b[39melse\u001b[39;00m:\n\u001b[1;32m    212\u001b[0m     f()\n",
      "File \u001b[0;32m/Library/Frameworks/Python.framework/Versions/3.10/lib/python3.10/site-packages/zmq/sugar/socket.py:618\u001b[0m, in \u001b[0;36mSocket.send\u001b[0;34m(self, data, flags, copy, track, routing_id, group)\u001b[0m\n\u001b[1;32m    611\u001b[0m         data \u001b[39m=\u001b[39m zmq\u001b[39m.\u001b[39mFrame(\n\u001b[1;32m    612\u001b[0m             data,\n\u001b[1;32m    613\u001b[0m             track\u001b[39m=\u001b[39mtrack,\n\u001b[1;32m    614\u001b[0m             copy\u001b[39m=\u001b[39mcopy \u001b[39mor\u001b[39;00m \u001b[39mNone\u001b[39;00m,\n\u001b[1;32m    615\u001b[0m             copy_threshold\u001b[39m=\u001b[39m\u001b[39mself\u001b[39m\u001b[39m.\u001b[39mcopy_threshold,\n\u001b[1;32m    616\u001b[0m         )\n\u001b[1;32m    617\u001b[0m     data\u001b[39m.\u001b[39mgroup \u001b[39m=\u001b[39m group\n\u001b[0;32m--> 618\u001b[0m \u001b[39mreturn\u001b[39;00m \u001b[39msuper\u001b[39;49m()\u001b[39m.\u001b[39;49msend(data, flags\u001b[39m=\u001b[39;49mflags, copy\u001b[39m=\u001b[39;49mcopy, track\u001b[39m=\u001b[39;49mtrack)\n",
      "File \u001b[0;32mzmq/backend/cython/socket.pyx:740\u001b[0m, in \u001b[0;36mzmq.backend.cython.socket.Socket.send\u001b[0;34m()\u001b[0m\n",
      "File \u001b[0;32mzmq/backend/cython/socket.pyx:787\u001b[0m, in \u001b[0;36mzmq.backend.cython.socket.Socket.send\u001b[0;34m()\u001b[0m\n",
      "File \u001b[0;32mzmq/backend/cython/socket.pyx:244\u001b[0m, in \u001b[0;36mzmq.backend.cython.socket._send_copy\u001b[0;34m()\u001b[0m\n",
      "File \u001b[0;32m/Library/Frameworks/Python.framework/Versions/3.10/lib/python3.10/site-packages/zmq/backend/cython/checkrc.pxd:13\u001b[0m, in \u001b[0;36mzmq.backend.cython.checkrc._check_rc\u001b[0;34m()\u001b[0m\n",
      "\u001b[0;31mKeyboardInterrupt\u001b[0m: "
     ]
    }
   ],
   "source": [
    "model = YOLO(\"yolov8n-seg.pt\")  # load a pretrained model\n",
    "model.train(data=\"/Users/samedi/Documents/Coding/swans/data/swans.yaml\", \n",
    "            epochs=50, \n",
    "            device=device, \n",
    "            imgsz=320,\n",
    "            resume=False)\n",
    "success = model.export(format=\"onnx\")  # export the model to ONNX format\n",
    "metrics = model.val()"
   ]
  },
  {
   "cell_type": "code",
   "execution_count": 66,
   "metadata": {},
   "outputs": [
    {
     "name": "stderr",
     "output_type": "stream",
     "text": [
      "New https://pypi.org/project/ultralytics/8.0.109 available 😃 Update with 'pip install -U ultralytics'\n",
      "Ultralytics YOLOv8.0.107 🚀 Python-3.10.6 torch-2.0.1 CPU\n",
      "\u001b[34m\u001b[1myolo/engine/trainer: \u001b[0mtask=classify, mode=train, model=/Users/samedi/Documents/Coding/swans/model/yolov8/yolov8s-cls.pt, data=/Users/samedi/Documents/Coding/swans/data, epochs=100, patience=50, batch=16, imgsz=320, save=True, save_period=-1, cache=False, device=cpu, workers=8, project=None, name=None, exist_ok=False, pretrained=False, optimizer=SGD, verbose=True, seed=0, deterministic=True, single_cls=False, rect=False, cos_lr=False, close_mosaic=0, resume=False, amp=True, overlap_mask=True, mask_ratio=4, dropout=0.0, val=True, split=val, save_json=False, save_hybrid=False, conf=None, iou=0.7, max_det=300, half=False, dnn=False, plots=True, source=None, show=False, save_txt=False, save_conf=False, save_crop=False, show_labels=True, show_conf=True, vid_stride=1, line_width=None, visualize=False, augment=False, agnostic_nms=False, classes=None, retina_masks=False, boxes=True, format=torchscript, keras=False, optimize=False, int8=False, dynamic=False, simplify=False, opset=None, workspace=4, nms=False, lr0=0.01, lrf=0.01, momentum=0.937, weight_decay=0.0005, warmup_epochs=3.0, warmup_momentum=0.8, warmup_bias_lr=0.1, box=7.5, cls=0.5, dfl=1.5, pose=12.0, kobj=1.0, label_smoothing=0.0, nbs=64, hsv_h=0.015, hsv_s=0.7, hsv_v=0.4, degrees=0.0, translate=0.1, scale=0.5, shear=0.0, perspective=0.0, flipud=0.0, fliplr=0.5, mosaic=1.0, mixup=0.0, copy_paste=0.0, cfg=None, v5loader=False, tracker=botsort.yaml, save_dir=runs/classify/train8\n",
      "Overriding model.yaml nc=1000 with nc=3\n",
      "\n",
      "                   from  n    params  module                                       arguments                     \n",
      "  0                  -1  1       928  ultralytics.nn.modules.conv.Conv             [3, 32, 3, 2]                 \n",
      "  1                  -1  1     18560  ultralytics.nn.modules.conv.Conv             [32, 64, 3, 2]                \n",
      "  2                  -1  1     29056  ultralytics.nn.modules.block.C2f             [64, 64, 1, True]             \n",
      "  3                  -1  1     73984  ultralytics.nn.modules.conv.Conv             [64, 128, 3, 2]               \n",
      "  4                  -1  2    197632  ultralytics.nn.modules.block.C2f             [128, 128, 2, True]           \n",
      "  5                  -1  1    295424  ultralytics.nn.modules.conv.Conv             [128, 256, 3, 2]              \n",
      "  6                  -1  2    788480  ultralytics.nn.modules.block.C2f             [256, 256, 2, True]           \n",
      "  7                  -1  1   1180672  ultralytics.nn.modules.conv.Conv             [256, 512, 3, 2]              \n",
      "  8                  -1  1   1838080  ultralytics.nn.modules.block.C2f             [512, 512, 1, True]           \n",
      "  9                  -1  1    661763  ultralytics.nn.modules.head.Classify         [512, 3]                      \n",
      "YOLOv8s-cls summary: 99 layers, 5084579 parameters, 5084579 gradients\n",
      "Transferred 156/158 items from pretrained weights\n",
      "\u001b[34m\u001b[1mTensorBoard: \u001b[0mStart with 'tensorboard --logdir runs/classify/train8', view at http://localhost:6006/\n",
      "\u001b[34m\u001b[1moptimizer:\u001b[0m SGD(lr=0.01) with parameter groups 26 weight(decay=0.0), 27 weight(decay=0.0005), 27 bias\n",
      "Image sizes 320 train, 320 val\n",
      "Using 0 dataloader workers\n",
      "Logging results to \u001b[1mruns/classify/train8\u001b[0m\n",
      "Starting training for 100 epochs...\n",
      "\n",
      "      Epoch    GPU_mem       loss  Instances       Size\n",
      "      1/100         0G     0.2593         16        320:  64%|██████▍   | 308/480 [14:13<07:56,  2.77s/it]\n"
     ]
    },
    {
     "ename": "KeyboardInterrupt",
     "evalue": "",
     "output_type": "error",
     "traceback": [
      "\u001b[0;31m---------------------------------------------------------------------------\u001b[0m",
      "\u001b[0;31mKeyboardInterrupt\u001b[0m                         Traceback (most recent call last)",
      "\u001b[1;32m/Users/samedi/Documents/Coding/swans/model/yolov8/train.ipynb Cell 8\u001b[0m in \u001b[0;36m<cell line: 1>\u001b[0;34m()\u001b[0m\n\u001b[0;32m----> <a href='vscode-notebook-cell:/Users/samedi/Documents/Coding/swans/model/yolov8/train.ipynb#X12sZmlsZQ%3D%3D?line=0'>1</a>\u001b[0m model\u001b[39m.\u001b[39;49mtrain(data\u001b[39m=\u001b[39;49m\u001b[39m\"\u001b[39;49m\u001b[39m/Users/samedi/Documents/Coding/swans/data\u001b[39;49m\u001b[39m\"\u001b[39;49m, \n\u001b[1;32m      <a href='vscode-notebook-cell:/Users/samedi/Documents/Coding/swans/model/yolov8/train.ipynb#X12sZmlsZQ%3D%3D?line=1'>2</a>\u001b[0m             epochs\u001b[39m=\u001b[39;49m\u001b[39m100\u001b[39;49m, \n\u001b[1;32m      <a href='vscode-notebook-cell:/Users/samedi/Documents/Coding/swans/model/yolov8/train.ipynb#X12sZmlsZQ%3D%3D?line=2'>3</a>\u001b[0m             device\u001b[39m=\u001b[39;49mdevice, \n\u001b[1;32m      <a href='vscode-notebook-cell:/Users/samedi/Documents/Coding/swans/model/yolov8/train.ipynb#X12sZmlsZQ%3D%3D?line=3'>4</a>\u001b[0m             imgsz\u001b[39m=\u001b[39;49m\u001b[39m320\u001b[39;49m,\n\u001b[1;32m      <a href='vscode-notebook-cell:/Users/samedi/Documents/Coding/swans/model/yolov8/train.ipynb#X12sZmlsZQ%3D%3D?line=4'>5</a>\u001b[0m             resume\u001b[39m=\u001b[39;49m\u001b[39mFalse\u001b[39;49;00m)\n\u001b[1;32m      <a href='vscode-notebook-cell:/Users/samedi/Documents/Coding/swans/model/yolov8/train.ipynb#X12sZmlsZQ%3D%3D?line=5'>6</a>\u001b[0m metrics \u001b[39m=\u001b[39m model\u001b[39m.\u001b[39mval()\n",
      "File \u001b[0;32m/Library/Frameworks/Python.framework/Versions/3.10/lib/python3.10/site-packages/ultralytics/yolo/engine/model.py:371\u001b[0m, in \u001b[0;36mYOLO.train\u001b[0;34m(self, **kwargs)\u001b[0m\n\u001b[1;32m    369\u001b[0m     \u001b[39mself\u001b[39m\u001b[39m.\u001b[39mmodel \u001b[39m=\u001b[39m \u001b[39mself\u001b[39m\u001b[39m.\u001b[39mtrainer\u001b[39m.\u001b[39mmodel\n\u001b[1;32m    370\u001b[0m \u001b[39mself\u001b[39m\u001b[39m.\u001b[39mtrainer\u001b[39m.\u001b[39mhub_session \u001b[39m=\u001b[39m \u001b[39mself\u001b[39m\u001b[39m.\u001b[39msession  \u001b[39m# attach optional HUB session\u001b[39;00m\n\u001b[0;32m--> 371\u001b[0m \u001b[39mself\u001b[39;49m\u001b[39m.\u001b[39;49mtrainer\u001b[39m.\u001b[39;49mtrain()\n\u001b[1;32m    372\u001b[0m \u001b[39m# Update model and cfg after training\u001b[39;00m\n\u001b[1;32m    373\u001b[0m \u001b[39mif\u001b[39;00m RANK \u001b[39min\u001b[39;00m (\u001b[39m-\u001b[39m\u001b[39m1\u001b[39m, \u001b[39m0\u001b[39m):\n",
      "File \u001b[0;32m/Library/Frameworks/Python.framework/Versions/3.10/lib/python3.10/site-packages/ultralytics/yolo/engine/trainer.py:192\u001b[0m, in \u001b[0;36mBaseTrainer.train\u001b[0;34m(self)\u001b[0m\n\u001b[1;32m    190\u001b[0m         ddp_cleanup(\u001b[39mself\u001b[39m, \u001b[39mstr\u001b[39m(file))\n\u001b[1;32m    191\u001b[0m \u001b[39melse\u001b[39;00m:\n\u001b[0;32m--> 192\u001b[0m     \u001b[39mself\u001b[39;49m\u001b[39m.\u001b[39;49m_do_train(world_size)\n",
      "File \u001b[0;32m/Library/Frameworks/Python.framework/Versions/3.10/lib/python3.10/site-packages/ultralytics/yolo/engine/trainer.py:336\u001b[0m, in \u001b[0;36mBaseTrainer._do_train\u001b[0;34m(self, world_size)\u001b[0m\n\u001b[1;32m    332\u001b[0m     \u001b[39mself\u001b[39m\u001b[39m.\u001b[39mtloss \u001b[39m=\u001b[39m (\u001b[39mself\u001b[39m\u001b[39m.\u001b[39mtloss \u001b[39m*\u001b[39m i \u001b[39m+\u001b[39m \u001b[39mself\u001b[39m\u001b[39m.\u001b[39mloss_items) \u001b[39m/\u001b[39m (i \u001b[39m+\u001b[39m \u001b[39m1\u001b[39m) \u001b[39mif\u001b[39;00m \u001b[39mself\u001b[39m\u001b[39m.\u001b[39mtloss \u001b[39mis\u001b[39;00m \u001b[39mnot\u001b[39;00m \u001b[39mNone\u001b[39;00m \\\n\u001b[1;32m    333\u001b[0m         \u001b[39melse\u001b[39;00m \u001b[39mself\u001b[39m\u001b[39m.\u001b[39mloss_items\n\u001b[1;32m    335\u001b[0m \u001b[39m# Backward\u001b[39;00m\n\u001b[0;32m--> 336\u001b[0m \u001b[39mself\u001b[39;49m\u001b[39m.\u001b[39;49mscaler\u001b[39m.\u001b[39;49mscale(\u001b[39mself\u001b[39;49m\u001b[39m.\u001b[39;49mloss)\u001b[39m.\u001b[39;49mbackward()\n\u001b[1;32m    338\u001b[0m \u001b[39m# Optimize - https://pytorch.org/docs/master/notes/amp_examples.html\u001b[39;00m\n\u001b[1;32m    339\u001b[0m \u001b[39mif\u001b[39;00m ni \u001b[39m-\u001b[39m last_opt_step \u001b[39m>\u001b[39m\u001b[39m=\u001b[39m \u001b[39mself\u001b[39m\u001b[39m.\u001b[39maccumulate:\n",
      "File \u001b[0;32m/Library/Frameworks/Python.framework/Versions/3.10/lib/python3.10/site-packages/torch/_tensor.py:487\u001b[0m, in \u001b[0;36mTensor.backward\u001b[0;34m(self, gradient, retain_graph, create_graph, inputs)\u001b[0m\n\u001b[1;32m    477\u001b[0m \u001b[39mif\u001b[39;00m has_torch_function_unary(\u001b[39mself\u001b[39m):\n\u001b[1;32m    478\u001b[0m     \u001b[39mreturn\u001b[39;00m handle_torch_function(\n\u001b[1;32m    479\u001b[0m         Tensor\u001b[39m.\u001b[39mbackward,\n\u001b[1;32m    480\u001b[0m         (\u001b[39mself\u001b[39m,),\n\u001b[0;32m   (...)\u001b[0m\n\u001b[1;32m    485\u001b[0m         inputs\u001b[39m=\u001b[39minputs,\n\u001b[1;32m    486\u001b[0m     )\n\u001b[0;32m--> 487\u001b[0m torch\u001b[39m.\u001b[39;49mautograd\u001b[39m.\u001b[39;49mbackward(\n\u001b[1;32m    488\u001b[0m     \u001b[39mself\u001b[39;49m, gradient, retain_graph, create_graph, inputs\u001b[39m=\u001b[39;49minputs\n\u001b[1;32m    489\u001b[0m )\n",
      "File \u001b[0;32m/Library/Frameworks/Python.framework/Versions/3.10/lib/python3.10/site-packages/torch/autograd/__init__.py:200\u001b[0m, in \u001b[0;36mbackward\u001b[0;34m(tensors, grad_tensors, retain_graph, create_graph, grad_variables, inputs)\u001b[0m\n\u001b[1;32m    195\u001b[0m     retain_graph \u001b[39m=\u001b[39m create_graph\n\u001b[1;32m    197\u001b[0m \u001b[39m# The reason we repeat same the comment below is that\u001b[39;00m\n\u001b[1;32m    198\u001b[0m \u001b[39m# some Python versions print out the first line of a multi-line function\u001b[39;00m\n\u001b[1;32m    199\u001b[0m \u001b[39m# calls in the traceback and some print out the last line\u001b[39;00m\n\u001b[0;32m--> 200\u001b[0m Variable\u001b[39m.\u001b[39;49m_execution_engine\u001b[39m.\u001b[39;49mrun_backward(  \u001b[39m# Calls into the C++ engine to run the backward pass\u001b[39;49;00m\n\u001b[1;32m    201\u001b[0m     tensors, grad_tensors_, retain_graph, create_graph, inputs,\n\u001b[1;32m    202\u001b[0m     allow_unreachable\u001b[39m=\u001b[39;49m\u001b[39mTrue\u001b[39;49;00m, accumulate_grad\u001b[39m=\u001b[39;49m\u001b[39mTrue\u001b[39;49;00m)\n",
      "\u001b[0;31mKeyboardInterrupt\u001b[0m: "
     ]
    }
   ],
   "source": [
    "model = YOLO('yolov8s-cls.pt')\n",
    "model.train(data=\"/Users/samedi/Documents/Coding/swans/data\", \n",
    "            epochs=50, \n",
    "            device=device, \n",
    "            imgsz=320,\n",
    "            resume=False)\n",
    "success = model.export(format=\"onnx\")  # export the model to ONNX format\n",
    "metrics = model.val()"
   ]
  }
 ],
 "metadata": {
  "kernelspec": {
   "display_name": "Python 3",
   "language": "python",
   "name": "python3"
  },
  "language_info": {
   "codemirror_mode": {
    "name": "ipython",
    "version": 3
   },
   "file_extension": ".py",
   "mimetype": "text/x-python",
   "name": "python",
   "nbconvert_exporter": "python",
   "pygments_lexer": "ipython3",
   "version": "3.10.6"
  },
  "orig_nbformat": 4
 },
 "nbformat": 4,
 "nbformat_minor": 2
}
