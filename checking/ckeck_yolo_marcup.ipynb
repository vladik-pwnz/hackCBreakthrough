{
 "cells": [
  {
   "cell_type": "code",
   "execution_count": 16,
   "metadata": {
    "collapsed": true,
    "ExecuteTime": {
     "end_time": "2023-05-20T20:21:29.429683Z",
     "start_time": "2023-05-20T20:21:29.413982500Z"
    }
   },
   "outputs": [],
   "source": [
    "import os\n",
    "\n",
    "import cv2\n",
    "import numpy as np"
   ]
  },
  {
   "cell_type": "code",
   "execution_count": 19,
   "outputs": [],
   "source": [
    "path_dataset = r\"C:\\workspace\\hakaton\\dataset_yolo\\train\"\n",
    "\n",
    "base_file_list = os.listdir(os.path.join(path_dataset, 'images'))\n",
    "base_file_list = [file.rsplit('.', 1)[0] for file in base_file_list]"
   ],
   "metadata": {
    "collapsed": false,
    "ExecuteTime": {
     "end_time": "2023-05-20T20:22:36.810091900Z",
     "start_time": "2023-05-20T20:22:36.794823500Z"
    }
   }
  },
  {
   "cell_type": "code",
   "execution_count": 20,
   "outputs": [
    {
     "name": "stdout",
     "output_type": "stream",
     "text": [
      "C:\\workspace\\hakaton\\dataset_yolo\\train\\images\\00120000501.jpg\n",
      "C:\\workspace\\hakaton\\dataset_yolo\\train\\images\\00120047902.jpg\n",
      "C:\\workspace\\hakaton\\dataset_yolo\\train\\images\\00120047904.jpg\n",
      "C:\\workspace\\hakaton\\dataset_yolo\\train\\images\\00320099101.jpg\n",
      "C:\\workspace\\hakaton\\dataset_yolo\\train\\images\\01020004001.jpg\n",
      "C:\\workspace\\hakaton\\dataset_yolo\\train\\images\\01700003101.jpg\n",
      "C:\\workspace\\hakaton\\dataset_yolo\\train\\images\\01700118001.jpg\n",
      "C:\\workspace\\hakaton\\dataset_yolo\\train\\images\\02110020404.jpg\n",
      "C:\\workspace\\hakaton\\dataset_yolo\\train\\images\\02bebb34979b5ee045cb91763ecee848Y29udGVudHNlYXJjaGFwaSwxNjY4ODU5Njc0-2.69832329.jpg\n",
      "C:\\workspace\\hakaton\\dataset_yolo\\train\\images\\04940090501.jpg\n",
      "C:\\workspace\\hakaton\\dataset_yolo\\train\\images\\05150098802.jpg\n",
      "C:\\workspace\\hakaton\\dataset_yolo\\train\\images\\05150098803.jpg\n"
     ]
    }
   ],
   "source": [
    "for base_name in base_file_list:\n",
    "    pth_img = os.path.join(path_dataset, 'images', base_name + '.jpg')\n",
    "    pth_txt = os.path.join(path_dataset, 'labels', base_name + '.txt')\n",
    "    if not os.path.exists(pth_img) or not os.path.exists(pth_txt):\n",
    "        print(pth_img, pth_txt)\n",
    "        continue\n",
    "\n",
    "    with open(pth_txt, 'r') as f:\n",
    "        lines = f.readlines()\n",
    "\n",
    "    img = cv2.imread(pth_img)\n",
    "    height, width, c = img.shape\n",
    "    # print(lines)\n",
    "    for row in lines:\n",
    "        # print(row.split())\n",
    "        id_c, cx, cy, w, h = row.split()\n",
    "        id_c, cx, cy, w, h = int(id_c), float(cx), float(cy), float(w), float(h)\n",
    "        x2, y2 = cx + w/2, cy + h/2\n",
    "        x1, y1 = cx - w/2, cy - h/2\n",
    "\n",
    "        bbox = np.array((x1, y1, x2, y2)).reshape(-1,2) * np.array([width, height])\n",
    "        bbox = bbox.astype(int)\n",
    "        cv2.rectangle(img, bbox[0], bbox[1], color=(255,0,0), thickness=1)\n",
    "\n",
    "    print(pth_img)\n",
    "    cv2.imshow('', img)\n",
    "    key = cv2.waitKey()\n",
    "    if key ==27:\n",
    "        break\n",
    "\n",
    "cv2.destroyAllWindows()\n"
   ],
   "metadata": {
    "collapsed": false,
    "ExecuteTime": {
     "end_time": "2023-05-20T20:24:07.758624700Z",
     "start_time": "2023-05-20T20:22:36.998301100Z"
    }
   }
  },
  {
   "cell_type": "code",
   "execution_count": 21,
   "outputs": [
    {
     "data": {
      "text/plain": "'C:\\\\workspace\\\\hakaton\\\\dataset\\\\maliy\\\\masks\\x04940090501.png'"
     },
     "execution_count": 21,
     "metadata": {},
     "output_type": "execute_result"
    }
   ],
   "source": [
    "\"C:\\workspace\\hakaton\\dataset\\maliy\\masks\\04940090501.png\""
   ],
   "metadata": {
    "collapsed": false,
    "ExecuteTime": {
     "end_time": "2023-05-20T20:24:47.527513100Z",
     "start_time": "2023-05-20T20:24:47.522514300Z"
    }
   }
  },
  {
   "cell_type": "code",
   "execution_count": null,
   "outputs": [],
   "source": [],
   "metadata": {
    "collapsed": false
   }
  }
 ],
 "metadata": {
  "kernelspec": {
   "display_name": "Python 3",
   "language": "python",
   "name": "python3"
  },
  "language_info": {
   "codemirror_mode": {
    "name": "ipython",
    "version": 2
   },
   "file_extension": ".py",
   "mimetype": "text/x-python",
   "name": "python",
   "nbconvert_exporter": "python",
   "pygments_lexer": "ipython2",
   "version": "2.7.6"
  }
 },
 "nbformat": 4,
 "nbformat_minor": 0
}
