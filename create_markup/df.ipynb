{
 "cells": [
  {
   "cell_type": "code",
   "execution_count": 47,
   "metadata": {
    "collapsed": true,
    "ExecuteTime": {
     "end_time": "2023-05-19T19:26:12.600056600Z",
     "start_time": "2023-05-19T19:26:12.568635500Z"
    }
   },
   "outputs": [],
   "source": [
    "import cv2\n",
    "import numpy as np\n",
    "import os\n",
    "from PIL import Image\n",
    "from tqdm import tqdm\n",
    "import pandas as pd\n",
    "from sklearn.model_selection import train_test_split\n",
    "import pandas as pd\n",
    "\n"
   ]
  },
  {
   "cell_type": "code",
   "execution_count": 55,
   "outputs": [
    {
     "name": "stdout",
     "output_type": "stream",
     "text": [
      "['klikun', 'maliy', 'shipun', 'Определение_лебедей_по_внешнему_виду.docx', 'Пояснение к оценке.docx']\n"
     ]
    }
   ],
   "source": [
    "pth_root = r\"C:\\workspace\\hakaton\\dataset\"\n",
    "\n",
    "leb_types = ['klikun', 'maliy', 'shipun']\n",
    "\n",
    "name2id = {\n",
    "    'klikun': 0,\n",
    "    'maliy': 1,\n",
    "    'shipun': 2\n",
    "}\n",
    "\n",
    "id2name = {v: k for k, v in name2id.items()}\n",
    "\n",
    "print(os.listdir(pth_root))"
   ],
   "metadata": {
    "collapsed": false,
    "ExecuteTime": {
     "end_time": "2023-05-19T19:42:08.650439100Z",
     "start_time": "2023-05-19T19:42:08.641433600Z"
    }
   }
  },
  {
   "cell_type": "code",
   "execution_count": 56,
   "outputs": [],
   "source": [
    "\n",
    "def find_box_by_mask(image, color):\n",
    "    \"\"\"\n",
    "    Находит координаты бокса объекта на основе маски по цвету\n",
    "    Возвращает координаты бокса [x, y, x2, y2] или None, если объект не найден\n",
    "    \"\"\"\n",
    "    mask = image == color\n",
    "    # Находим индексы True значений в маске\n",
    "    nonzero_indices = np.transpose(np.nonzero(mask))\n",
    "\n",
    "    # Если нет True значений, объект не найден\n",
    "    if len(nonzero_indices) == 0:\n",
    "        return None\n",
    "\n",
    "    # Находим границы бокса\n",
    "    min_x = np.min(nonzero_indices[:, 1])\n",
    "    max_x = np.max(nonzero_indices[:, 1])\n",
    "    min_y = np.min(nonzero_indices[:, 0])\n",
    "    max_y = np.max(nonzero_indices[:, 0])\n",
    "\n",
    "    # Вычисляем координаты бокса\n",
    "    box = [min_x, min_y, max_x, max_y]\n",
    "\n",
    "    return box"
   ],
   "metadata": {
    "collapsed": false,
    "ExecuteTime": {
     "end_time": "2023-05-19T19:42:09.178581900Z",
     "start_time": "2023-05-19T19:42:09.136430800Z"
    }
   }
  },
  {
   "cell_type": "code",
   "execution_count": 57,
   "outputs": [
    {
     "name": "stderr",
     "output_type": "stream",
     "text": [
      "100%|██████████| 3025/3025 [02:57<00:00, 17.04it/s]\n",
      "100%|██████████| 3002/3002 [02:06<00:00, 23.79it/s]\n",
      "100%|██████████| 3011/3011 [04:34<00:00, 10.95it/s]\n"
     ]
    }
   ],
   "source": [
    "result_list  = []\n",
    "\n",
    "uniq_id_frame = 0\n",
    "for type_name in leb_types:\n",
    "\n",
    "    pth_masks = os.path.join(pth_root, type_name, 'masks')\n",
    "    file_list = os.listdir(pth_masks)\n",
    "    for file_mask in tqdm(file_list):\n",
    "        base_name = file_mask.split('.')[0]\n",
    "        pth_img = os.path.join(pth_masks, file_mask)\n",
    "        img = cv2.imread(pth_img)\n",
    "        objs = np.unique(img)\n",
    "        objs.sort()\n",
    "        objs = objs[1:] # фон не учитываем\n",
    "        for id_obj, obj_color in enumerate(objs):\n",
    "            bb = find_box_by_mask(image=img, color=obj_color)\n",
    "            pth_mask_img = os.path.join('masks', file_mask)\n",
    "            pth_img = os.path.join('images', base_name + \".jpg\")\n",
    "            h, w, _ = img.shape\n",
    "            result_list.append((uniq_id_frame, type_name, name2id[type_name], id_obj, pth_img, pth_mask_img, *bb, h, w))\n",
    "            uniq_id_frame += 1\n"
   ],
   "metadata": {
    "collapsed": false,
    "ExecuteTime": {
     "end_time": "2023-05-19T19:51:48.089011200Z",
     "start_time": "2023-05-19T19:42:09.339133600Z"
    }
   }
  },
  {
   "cell_type": "code",
   "execution_count": 58,
   "outputs": [],
   "source": [
    "columns = ['frame_id', 'type_name', 'type_id', 'obj_id', 'path_img', 'path_mask', 'x1', 'y1', 'x2', 'y2', 'height', 'width']\n",
    "df = pd.DataFrame(result_list, columns=columns)\n",
    "df.to_csv('all_annotation.csv', index=False)"
   ],
   "metadata": {
    "collapsed": false,
    "ExecuteTime": {
     "end_time": "2023-05-19T19:51:48.119015700Z",
     "start_time": "2023-05-19T19:51:48.092008700Z"
    }
   }
  },
  {
   "cell_type": "code",
   "execution_count": 73,
   "outputs": [
    {
     "name": "stderr",
     "output_type": "stream",
     "text": [
      "C:\\Users\\annza\\AppData\\Local\\Temp\\ipykernel_18016\\1122127876.py:22: FutureWarning: The frame.append method is deprecated and will be removed from pandas in a future version. Use pandas.concat instead.\n",
      "  train_df = train_df.append(train_data)\n",
      "C:\\Users\\annza\\AppData\\Local\\Temp\\ipykernel_18016\\1122127876.py:23: FutureWarning: The frame.append method is deprecated and will be removed from pandas in a future version. Use pandas.concat instead.\n",
      "  test_df = test_df.append(test_data)\n",
      "C:\\Users\\annza\\AppData\\Local\\Temp\\ipykernel_18016\\1122127876.py:22: FutureWarning: The frame.append method is deprecated and will be removed from pandas in a future version. Use pandas.concat instead.\n",
      "  train_df = train_df.append(train_data)\n",
      "C:\\Users\\annza\\AppData\\Local\\Temp\\ipykernel_18016\\1122127876.py:23: FutureWarning: The frame.append method is deprecated and will be removed from pandas in a future version. Use pandas.concat instead.\n",
      "  test_df = test_df.append(test_data)\n",
      "C:\\Users\\annza\\AppData\\Local\\Temp\\ipykernel_18016\\1122127876.py:22: FutureWarning: The frame.append method is deprecated and will be removed from pandas in a future version. Use pandas.concat instead.\n",
      "  train_df = train_df.append(train_data)\n",
      "C:\\Users\\annza\\AppData\\Local\\Temp\\ipykernel_18016\\1122127876.py:23: FutureWarning: The frame.append method is deprecated and will be removed from pandas in a future version. Use pandas.concat instead.\n",
      "  test_df = test_df.append(test_data)\n"
     ]
    }
   ],
   "source": [
    "# Составляем список уникальных классов\n",
    "unique_classes = df['type_name'].unique()\n",
    "\n",
    "train_df = pd.DataFrame()\n",
    "test_df = pd.DataFrame()\n",
    "\n",
    "# Разделяем данные на тренировочный и тестовый наборы для каждого класса\n",
    "for class_name in unique_classes:\n",
    "    # Фильтруем данные для текущего класса\n",
    "    class_data = df[df['type_name'] == class_name]\n",
    "\n",
    "    # Разделяем данные на тренировочный и тестовый наборы\n",
    "    train_data, test_data = train_test_split(class_data, test_size=0.15, random_state=42)\n",
    "\n",
    "    # Добавляем данные текущего класса к тренировочному и тестовому DataFrame\n",
    "    train_df = pd.concat(train_df.append(train_data))\n",
    "    test_df = test_df.append(test_data)"
   ],
   "metadata": {
    "collapsed": false,
    "ExecuteTime": {
     "end_time": "2023-05-19T19:59:39.617244700Z",
     "start_time": "2023-05-19T19:59:39.563251600Z"
    }
   }
  },
  {
   "cell_type": "code",
   "execution_count": 79,
   "outputs": [
    {
     "data": {
      "text/plain": "(11981, 2116)"
     },
     "execution_count": 79,
     "metadata": {},
     "output_type": "execute_result"
    }
   ],
   "source": [
    "train_df.to_csv('train.csv', index=False)\n",
    "test_df.to_csv('test.csv', index=False)\n",
    "len(train_df), len(test_df)"
   ],
   "metadata": {
    "collapsed": false,
    "ExecuteTime": {
     "end_time": "2023-05-19T20:09:30.889353300Z",
     "start_time": "2023-05-19T20:09:30.838346800Z"
    }
   }
  },
  {
   "cell_type": "code",
   "execution_count": 78,
   "outputs": [
    {
     "data": {
      "text/plain": "           frame_id  type_id  obj_id  path_img  path_mask    x1    y1    x2  \\\ntype_name                                                                     \nklikun         4371     4371    4371      4371       4371  4371  4371  4371   \nmaliy          6027     6027    6027      6027       6027  6027  6027  6027   \nshipun         3699     3699    3699      3699       3699  3699  3699  3699   \n\n             y2  height  width  \ntype_name                       \nklikun     4371    4371   4371  \nmaliy      6027    6027   6027  \nshipun     3699    3699   3699  ",
      "text/html": "<div>\n<style scoped>\n    .dataframe tbody tr th:only-of-type {\n        vertical-align: middle;\n    }\n\n    .dataframe tbody tr th {\n        vertical-align: top;\n    }\n\n    .dataframe thead th {\n        text-align: right;\n    }\n</style>\n<table border=\"1\" class=\"dataframe\">\n  <thead>\n    <tr style=\"text-align: right;\">\n      <th></th>\n      <th>frame_id</th>\n      <th>type_id</th>\n      <th>obj_id</th>\n      <th>path_img</th>\n      <th>path_mask</th>\n      <th>x1</th>\n      <th>y1</th>\n      <th>x2</th>\n      <th>y2</th>\n      <th>height</th>\n      <th>width</th>\n    </tr>\n    <tr>\n      <th>type_name</th>\n      <th></th>\n      <th></th>\n      <th></th>\n      <th></th>\n      <th></th>\n      <th></th>\n      <th></th>\n      <th></th>\n      <th></th>\n      <th></th>\n      <th></th>\n    </tr>\n  </thead>\n  <tbody>\n    <tr>\n      <th>klikun</th>\n      <td>4371</td>\n      <td>4371</td>\n      <td>4371</td>\n      <td>4371</td>\n      <td>4371</td>\n      <td>4371</td>\n      <td>4371</td>\n      <td>4371</td>\n      <td>4371</td>\n      <td>4371</td>\n      <td>4371</td>\n    </tr>\n    <tr>\n      <th>maliy</th>\n      <td>6027</td>\n      <td>6027</td>\n      <td>6027</td>\n      <td>6027</td>\n      <td>6027</td>\n      <td>6027</td>\n      <td>6027</td>\n      <td>6027</td>\n      <td>6027</td>\n      <td>6027</td>\n      <td>6027</td>\n    </tr>\n    <tr>\n      <th>shipun</th>\n      <td>3699</td>\n      <td>3699</td>\n      <td>3699</td>\n      <td>3699</td>\n      <td>3699</td>\n      <td>3699</td>\n      <td>3699</td>\n      <td>3699</td>\n      <td>3699</td>\n      <td>3699</td>\n      <td>3699</td>\n    </tr>\n  </tbody>\n</table>\n</div>"
     },
     "execution_count": 78,
     "metadata": {},
     "output_type": "execute_result"
    }
   ],
   "source": [
    "df.groupby(by='type_name').count()"
   ],
   "metadata": {
    "collapsed": false,
    "ExecuteTime": {
     "end_time": "2023-05-19T20:05:44.527390800Z",
     "start_time": "2023-05-19T20:05:44.480823100Z"
    }
   }
  }
 ],
 "metadata": {
  "kernelspec": {
   "display_name": "Python 3",
   "language": "python",
   "name": "python3"
  },
  "language_info": {
   "codemirror_mode": {
    "name": "ipython",
    "version": 2
   },
   "file_extension": ".py",
   "mimetype": "text/x-python",
   "name": "python",
   "nbconvert_exporter": "python",
   "pygments_lexer": "ipython2",
   "version": "2.7.6"
  }
 },
 "nbformat": 4,
 "nbformat_minor": 0
}
