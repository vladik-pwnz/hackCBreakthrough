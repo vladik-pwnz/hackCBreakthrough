{
 "cells": [
  {
   "cell_type": "code",
   "execution_count": 3,
   "metadata": {},
   "outputs": [],
   "source": [
    "from datetime import timedelta\n",
    "import cv2\n",
    "import numpy as np\n",
    "import os\n",
    "import sys"
   ]
  },
  {
   "cell_type": "code",
   "execution_count": 25,
   "metadata": {},
   "outputs": [],
   "source": [
    "def format_timedelta(td):\n",
    "    \"\"\"Служебная функция для классного форматирования объектов timedelta (например, 00:00:20.05)\n",
    "    исключая микросекунды и сохраняя миллисекунды\"\"\"\n",
    "    result = str(td)\n",
    "    try:\n",
    "        result, ms = result.split(\".\")\n",
    "    except ValueError:\n",
    "        return result + \".00\".replace(\":\", \"-\")\n",
    "    ms = int(ms)\n",
    "    ms = round(ms / 1e4)\n",
    "    return f\"{result}.{ms:02}\".replace(\":\", \"-\")\n",
    "\n",
    "\n",
    "def get_saving_frames_durations(cap, saving_fps = 1):\n",
    "    \"\"\"Функция, которая возвращает список длительностей, в которые следует сохранять кадры.\"\"\"\n",
    "    s = []\n",
    "    # получаем продолжительность клипа, разделив количество кадров на количество кадров в секунду\n",
    "    clip_duration = cap.get(cv2.CAP_PROP_FRAME_COUNT) / cap.get(cv2.CAP_PROP_FPS)\n",
    "    # используйте np.arange () для выполнения шагов с плавающей запятой\n",
    "    for i in np.arange(0, clip_duration, 1 / saving_fps):\n",
    "        s.append(i)\n",
    "    return s"
   ]
  },
  {
   "cell_type": "code",
   "execution_count": 29,
   "metadata": {},
   "outputs": [],
   "source": [
    "def frame_cut(video_file, path):\n",
    "    \n",
    "    if not os.path.isdir(path + video_file[:-4]):\n",
    "        print('check')\n",
    "        os.mkdir(path + video_file[:-4])\n",
    "    else:\n",
    "        return 'stop'\n",
    "    \n",
    "    cap = cv2.VideoCapture(video_file)\n",
    "\n",
    "    fps = cap.get(cv2.CAP_PROP_FPS)\n",
    "\n",
    "    print('FPS = ', round(fps, 5))\n",
    "    \n",
    "    saving_frames_durations = get_saving_frames_durations(cap)\n",
    "    \n",
    "    count = 0\n",
    "    while True:\n",
    "        is_read, frame = cap.read()\n",
    "        print(is_read, count)\n",
    "        if not is_read:\n",
    "            # выйти из цикла, если нет фреймов для чтения\n",
    "            break\n",
    "        # получаем продолжительность, разделив количество кадров на FPS\n",
    "        frame_duration = count / fps\n",
    "        try:\n",
    "            # получить самую раннюю продолжительность для сохранения\n",
    "            closest_duration = saving_frames_durations[0]\n",
    "        except IndexError:\n",
    "            # список пуст, все кадры длительности сохранены\n",
    "            break\n",
    "        if frame_duration >= closest_duration:\n",
    "            # если ближайшая длительность меньше или равна длительности кадра,\n",
    "            # затем сохраняем фрейм\n",
    "            frame_duration_formatted = format_timedelta(timedelta(seconds=frame_duration))\n",
    "            cv2.imwrite(path + video_file + '\\\\' + f\"frame{frame_duration_formatted}.jpg\", frame)\n",
    "            print('success')\n",
    "            \n",
    "            # удалить точку продолжительности из списка, так как эта точка длительности уже сохранена\n",
    "            try:\n",
    "                saving_frames_durations.pop(0)\n",
    "            except IndexError:\n",
    "                pass\n",
    "        # увеличить количество кадров\n",
    "        count += 1\n"
   ]
  },
  {
   "cell_type": "code",
   "execution_count": 1,
   "metadata": {},
   "outputs": [],
   "source": [
    "video_file = 'Camera 3_20220526_003249.mp4'\n",
    "path = 'C:\\\\Users\\\\Reginald Miller\\\\Data_Science\\\\Tasks\\\\table_check\\\\Frames_'\n",
    "\n",
    "###frame_cut(video_file, path)"
   ]
  },
  {
   "cell_type": "code",
   "execution_count": 27,
   "metadata": {},
   "outputs": [],
   "source": [
    "from PIL import Image"
   ]
  },
  {
   "cell_type": "code",
   "execution_count": 46,
   "metadata": {},
   "outputs": [
    {
     "name": "stderr",
     "output_type": "stream",
     "text": [
      "<ipython-input-46-ac4bf8314357>:8: DeprecationWarning: ANTIALIAS is deprecated and will be removed in Pillow 10 (2023-07-01). Use Resampling.LANCZOS instead.\n",
      "  im_crop = im_crop.resize((116, 116), Image.ANTIALIAS)\n"
     ]
    }
   ],
   "source": [
    "path1 = \"Frames_Camera 3_20220526_003249\"\n",
    "frames_f = os.listdir(path1)\n",
    "\n",
    "# Вывести все файлы и папки\n",
    "for file in frames_f:\n",
    "    img = Image.open('Frames_Camera 3_20220526_003249/' + file)\n",
    "    im_crop = img.crop((115, 210, 350, 445))\n",
    "    im_crop = im_crop.resize((116, 116), Image.ANTIALIAS)\n",
    "    im_crop.save('Base/cut116_' + file, quality=95)"
   ]
  }
 ],
 "metadata": {
  "kernelspec": {
   "display_name": "Python 3",
   "language": "python",
   "name": "python3"
  },
  "language_info": {
   "codemirror_mode": {
    "name": "ipython",
    "version": 3
   },
   "file_extension": ".py",
   "mimetype": "text/x-python",
   "name": "python",
   "nbconvert_exporter": "python",
   "pygments_lexer": "ipython3",
   "version": "3.10.6"
  }
 },
 "nbformat": 4,
 "nbformat_minor": 4
}
