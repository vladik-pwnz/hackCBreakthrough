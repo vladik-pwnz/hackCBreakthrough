{
 "cells": [
  {
   "cell_type": "code",
   "execution_count": 1,
   "metadata": {},
   "outputs": [],
   "source": [
    "import os\n",
    "import sys\n",
    "\n",
    "from pathbook.pathbook import *\n",
    "labels = ['klikun', 'maliy', 'shipun']\n",
    "\n",
    "import numpy as np\n",
    "import pandas as pd\n",
    "import cv2\n",
    "from tqdm import tqdm\n",
    "import matplotlib.pyplot as plt"
   ]
  },
  {
   "attachments": {},
   "cell_type": "markdown",
   "metadata": {},
   "source": [
    "### annotating initial dataset for detection and segmentation"
   ]
  },
  {
   "cell_type": "code",
   "execution_count": 12,
   "metadata": {},
   "outputs": [
    {
     "name": "stderr",
     "output_type": "stream",
     "text": [
      " 71%|███████   | 2152/3025 [01:19<00:24, 36.23it/s]"
     ]
    },
    {
     "name": "stdout",
     "output_type": "stream",
     "text": [
      "/Users/samedi/Desktop/Минприроды/klikun/images/original (60).jpg\n"
     ]
    },
    {
     "name": "stderr",
     "output_type": "stream",
     "text": [
      "100%|██████████| 3025/3025 [01:49<00:00, 27.54it/s]\n",
      " 49%|████▉     | 1476/3002 [00:34<00:26, 57.16it/s]"
     ]
    },
    {
     "name": "stdout",
     "output_type": "stream",
     "text": [
      "/Users/samedi/Desktop/Минприроды/maliy/images/1960538708.jpg\n"
     ]
    },
    {
     "name": "stderr",
     "output_type": "stream",
     "text": [
      "100%|██████████| 3002/3002 [01:11<00:00, 42.07it/s]\n",
      "100%|██████████| 3011/3011 [02:46<00:00, 18.08it/s]\n"
     ]
    }
   ],
   "source": [
    "columns=['set','path','label','x_min','y_min','x_max','y_max']\n",
    "train_array = []\n",
    "val_array = []\n",
    "\n",
    "np.random.seed(17)\n",
    "val_p = 0.15\n",
    "\n",
    "for label_idx, label in enumerate(labels):\n",
    "    mask_dir = os.path.join(path_initial_train_dataset, label, 'masks')\n",
    "    image_dir = os.path.join(path_initial_train_dataset, label, 'images')\n",
    "\n",
    "    for file_idx, mask in enumerate(tqdm(os.listdir(mask_dir))):\n",
    "        impath = os.path.join(image_dir, mask.replace('.png','.jpg'))\n",
    "        if not os.path.exists(impath):\n",
    "            print(impath)\n",
    "            continue\n",
    "        image = cv2.imread(impath)\n",
    "        mask = cv2.imread(os.path.join(mask_dir, mask))\n",
    "\n",
    "        h, w, _ = image.shape\n",
    "        h_, w_, _ = mask.shape\n",
    "        if not (h == h_ and w == w_):\n",
    "            continue\n",
    "\n",
    "        save_dir=''\n",
    "        val = (np.random.random() < val_p)\n",
    "        if val:\n",
    "            save_dir = path_val_dataset\n",
    "        else:\n",
    "            save_dir = path_train_dataset\n",
    "\n",
    "        # \"[scource: initial|extra|augmented]-[label: klikun|maliy|shipun]-[ingroup index]]\"\n",
    "        name = f'initial-{label}-{file_idx}'\n",
    "        path = os.path.join(save_dir, name)\n",
    "        cv2.imwrite(path+'.jpg', image)\n",
    "        labelfile = open(path+'.txt','w')\n",
    "\n",
    "        imgray = cv2.cvtColor(mask, cv2.COLOR_BGR2GRAY)\n",
    "        colors = np.unique(imgray)[1:]\n",
    "        for color in colors:\n",
    "            _, thresh = cv2.threshold(imgray, color, color, type=cv2.THRESH_TOZERO_INV)\n",
    "            _, thresh = cv2.threshold(thresh, color-1, color, type=cv2.THRESH_TOZERO)\n",
    "            contours, _ = cv2.findContours(thresh, cv2.RETR_TREE, cv2.CHAIN_APPROX_SIMPLE)\n",
    "            seg = []\n",
    "            for contour in contours:\n",
    "                seg += (contour[:,0]/[w,h]).flatten().tolist()\n",
    "            x = seg[0::2]\n",
    "            y = seg[1::2]\n",
    "            print(label_idx,*seg,file=labelfile)\n",
    "\n",
    "            if val:\n",
    "                val_array.append(['val',path+'.jpg',label,min(x),min(y),max(x),max(y)])\n",
    "            else:\n",
    "                train_array.append(['train',path+'.jpg',label,min(x),min(y),max(x),max(y)])\n",
    "\n",
    "        labelfile.close()\n",
    "\n",
    "pd.DataFrame(train_array, columns=columns).to_csv(path_train_annotation,index=False)\n",
    "pd.DataFrame(val_array, columns=columns).to_csv(path_val_annotation,index=False)"
   ]
  }
 ],
 "metadata": {
  "kernelspec": {
   "display_name": "Python 3",
   "language": "python",
   "name": "python3"
  },
  "language_info": {
   "codemirror_mode": {
    "name": "ipython",
    "version": 3
   },
   "file_extension": ".py",
   "mimetype": "text/x-python",
   "name": "python",
   "nbconvert_exporter": "python",
   "pygments_lexer": "ipython3",
   "version": "3.10.6"
  },
  "orig_nbformat": 4
 },
 "nbformat": 4,
 "nbformat_minor": 2
}
